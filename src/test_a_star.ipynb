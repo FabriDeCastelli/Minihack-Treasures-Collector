{
 "cells": [
  {
   "cell_type": "markdown",
   "metadata": {},
   "source": [
    "TESTING A*"
   ]
  },
  {
   "cell_type": "code",
   "execution_count": 2,
   "metadata": {},
   "outputs": [],
   "source": [
    "from generate_room import generate_env\n",
    "from utils import *\n",
    "import matplotlib.pyplot as plt\n",
    "import random\n",
    "from a_star import *"
   ]
  },
  {
   "cell_type": "code",
   "execution_count": 3,
   "metadata": {},
   "outputs": [],
   "source": [
    "def create_map():  \n",
    "    \n",
    "    \"\"\"\n",
    "    :return: 2D array of the game map, list of tuples of the floor positions\n",
    "    \"\"\"\n",
    "    \n",
    "    env = generate_env()\n",
    "    state = env.reset()\n",
    "    #env.render()\n",
    "    #plt.imshow(state['pixel'][:2000, 400:900])\n",
    "    positions = get_floor_positions(state)\n",
    "    game_map = state['chars']\n",
    "    return game_map, positions\n",
    "#print(positions)"
   ]
  },
  {
   "cell_type": "code",
   "execution_count": 4,
   "metadata": {},
   "outputs": [],
   "source": [
    "\n",
    "def create_coordinates(game_map, positions):\n",
    "    \n",
    "    \"\"\"\n",
    "    :param game_map: the map of the game\n",
    "    :param positions: list of position inside the map\n",
    "            \n",
    "    :return: starting poin, random target, random excludeds targets\n",
    "    \"\"\"\n",
    "    \n",
    "    start = get_player_location(game_map)\n",
    "\n",
    "    while True:\n",
    "        target = positions[random.randrange(len(positions))]\n",
    "        excludeds = [positions[random.randrange(len(positions))], positions[random.randrange(len(positions))]]\n",
    "        if target not in excludeds:\n",
    "            break\n",
    "    #print(\"Start: \", start, \"Target: \", target, \"Excludeds: \", excludeds)\n",
    "    return start, target, excludeds"
   ]
  },
  {
   "cell_type": "markdown",
   "metadata": {},
   "source": [
    "Comparison between a_star and handson_a_star"
   ]
  },
  {
   "cell_type": "code",
   "execution_count": 5,
   "metadata": {},
   "outputs": [],
   "source": [
    "from queue import PriorityQueue\n",
    "\n",
    "def a_star_handson(game_map: np.ndarray, start: Tuple[int, int], target: Tuple[int, int],\n",
    "                   h: callable, excludeds:List[Tuple[int,int]]) -> List[Tuple[int, int]]:\n",
    "    # initialize open and close list\n",
    "    open_list = PriorityQueue()\n",
    "    close_list = []\n",
    "    # additional dict which maintains the nodes in the open list for an easier access and check\n",
    "    support_list = {}\n",
    "\n",
    "    starting_state_g = 0\n",
    "    starting_state_h = h(start, target)\n",
    "    starting_state_f = starting_state_g + starting_state_h\n",
    "\n",
    "    open_list.put((starting_state_f, (start, starting_state_g)))\n",
    "    support_list[start] = starting_state_g\n",
    "    parent = {start: None}\n",
    "\n",
    "    while not open_list.empty():\n",
    "        # get the node with lowest f\n",
    "        _, (current, current_cost) = open_list.get()\n",
    "        # add the node to the close list\n",
    "        close_list.append(current)\n",
    "\n",
    "        if current == target:\n",
    "            print(\"Target found!\")\n",
    "            path = build_path(parent, target)\n",
    "            return path\n",
    "\n",
    "        for neighbor in get_neighbors(game_map, current, excludeds):\n",
    "            # check if neighbor in close list, if so continue\n",
    "            if neighbor in close_list:\n",
    "                continue\n",
    "            # compute neighbor g, h and f values\n",
    "            neighbor_g = 1 + current_cost\n",
    "            neighbor_h = h(neighbor, target)\n",
    "            neighbor_f = neighbor_g + neighbor_h\n",
    "            parent[neighbor] = current\n",
    "            neighbor_entry = (neighbor_f, (neighbor, neighbor_g))\n",
    "            # if neighbor in open_list\n",
    "            if neighbor in support_list.keys():\n",
    "                # if neighbor_g is greater or equal to the one in the open list, continue\n",
    "                if neighbor_g >= support_list[neighbor]:\n",
    "                    continue\n",
    "            \n",
    "            # add neighbor to open list and update support_list\n",
    "            open_list.put(neighbor_entry)\n",
    "            support_list[neighbor] = neighbor_g\n",
    "\n",
    "    print(\"Target node not found!\")\n",
    "    return None"
   ]
  },
  {
   "cell_type": "markdown",
   "metadata": {},
   "source": [
    "This codes confront on 100 experiments"
   ]
  },
  {
   "cell_type": "code",
   "execution_count": 8,
   "metadata": {},
   "outputs": [
    {
     "name": "stdout",
     "output_type": "stream",
     "text": [
      "Same:  50\n",
      "Better:  0\n",
      "Worse:  0\n",
      "Error:  0\n"
     ]
    }
   ],
   "source": [
    "from contextlib import redirect_stdout\n",
    "import io\n",
    "\n",
    "# Your existing code for 'create_map', 'create_coordinates', 'a_star', and 'a_star_handson' functions\n",
    "\n",
    "count = 0\n",
    "better = 0\n",
    "worse = 0\n",
    "err = 0\n",
    "\n",
    "for i in range(50):\n",
    "    #print(\"Iteration: \", i)\n",
    "    game_map, positions = create_map()\n",
    "    start, target, excludeds = create_coordinates(game_map, positions)\n",
    "\n",
    "    # Use StringIO to capture output\n",
    "    fake_stdout = io.StringIO()\n",
    "\n",
    "    with redirect_stdout(fake_stdout):\n",
    "        path_1 = a_star(game_map, start, target, excludeds)\n",
    "        path_2 = a_star_handson(game_map, start, target, euclidean_distance, excludeds)\n",
    "\n",
    "    if path_1 == path_2:\n",
    "        count += 1\n",
    "    elif len(path_1) < len(path_2):\n",
    "        for i in path_1:\n",
    "            t = chr(game_map[i[1], i[0]])\n",
    "            if t in [\"|\", \"-\"] or t in [excludeds]:\n",
    "                err += 1\n",
    "        better += 1\n",
    "    else:\n",
    "        worse += 1\n",
    "\n",
    "print(\"Same: \", count)\n",
    "print(\"Better: \", better)\n",
    "print(\"Worse: \", worse)\n",
    "print(\"Error: \", err)\n"
   ]
  }
 ],
 "metadata": {
  "kernelspec": {
   "display_name": "minihack",
   "language": "python",
   "name": "python3"
  },
  "language_info": {
   "codemirror_mode": {
    "name": "ipython",
    "version": 3
   },
   "file_extension": ".py",
   "mimetype": "text/x-python",
   "name": "python",
   "nbconvert_exporter": "python",
   "pygments_lexer": "ipython3",
   "version": "3.10.13"
  }
 },
 "nbformat": 4,
 "nbformat_minor": 2
}

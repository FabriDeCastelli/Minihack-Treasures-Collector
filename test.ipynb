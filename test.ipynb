{
 "cells": [
  {
   "cell_type": "code",
   "execution_count": null,
   "id": "initial_id",
   "metadata": {
    "collapsed": true
   },
   "outputs": [],
   "source": [
    "from src.explore_room import *\n",
    "\n",
    "env = generate_env()\n",
    "state = env.reset()\n",
    "env.render()\n",
    "\n",
    "game_map = state['chars']\n",
    "start = get_player_location(game_map)\n",
    "floor_positions = get_floor_positions(state)\n",
    "game = state['pixel']\n",
    "\n",
    "# gli passo game perchè serve per vedere i movimenti (?)\n",
    "exhaustive_search(game_map, start, floor_positions, game, env)"
   ]
  },
  {
   "cell_type": "code",
   "execution_count": null,
   "outputs": [],
   "source": [],
   "metadata": {
    "collapsed": false
   },
   "id": "85d54ef6615e8ad8"
  }
 ],
 "metadata": {
  "kernelspec": {
   "display_name": "Python 3",
   "language": "python",
   "name": "python3"
  },
  "language_info": {
   "codemirror_mode": {
    "name": "ipython",
    "version": 3
   },
   "file_extension": ".py",
   "mimetype": "text/x-python",
   "name": "python",
   "nbconvert_exporter": "python",
   "pygments_lexer": "ipython3",
   "version": "3.8.18"
  }
 },
 "nbformat": 4,
 "nbformat_minor": 5
}

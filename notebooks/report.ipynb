{
  "cells": [
    {
      "cell_type": "markdown",
      "metadata": {
        "colab_type": "text",
        "id": "view-in-github"
      },
      "source": [
        "<a href=\"https://colab.research.google.com/github/tommasoDR/AIF-23-Project/blob/main/notebooks/report.ipynb\" target=\"_parent\"><img src=\"https://colab.research.google.com/assets/colab-badge.svg\" alt=\"Open In Colab\"/></a>"
      ]
    },
    {
      "cell_type": "markdown",
      "id": "03cd4bb3",
      "metadata": {
        "id": "03cd4bb3"
      },
      "source": [
        "<h2>ARTIFICIAL INTELLIGENCE FOUNDAMENTALS PROJECT 2023-24</h2>"
      ]
    },
    {
      "cell_type": "markdown",
      "id": "c5b49263",
      "metadata": {
        "id": "c5b49263"
      },
      "source": [
        "<h4><span style=\"color:lightblue\">Github link</span>: https://github.com/tommasoDR/AIF-23-Project</h4>\n"
      ]
    },
    {
      "cell_type": "markdown",
      "id": "f3a0c74b",
      "metadata": {
        "id": "f3a0c74b"
      },
      "source": [
        "<h4>INTRODUCTION</h4>\n",
        "\n",
        "This project is centered around developing intelligent algorithms for agents to navigate through partially observable environments with optimal reasoning. The primary focus involves implementing an advanced exploration algorithm, based on A*, to enable the agent to effectively address our objectives. The agent's goal is to navigate sensibly within randomly generated rooms. It has to identify specific objects to recognize different room types, locate the target object and reach it. We used NetHack as the foundational framework for this project, offering a rich and complex environment for the development and testing of intelligent exploration algorithms.<br>\n",
        "In the following we’re going to explain the algorithms, the heuristics and the optimizations that let the  agent to solve smartly this simple task on a random generated map in MiniHack environment.\n"
      ]
    },
    {
      "cell_type": "markdown",
      "id": "5030fbcd",
      "metadata": {
        "id": "5030fbcd"
      },
      "source": [
        "<h4>RELATED WORKS</h4>\n",
        "\n",
        "For generating the random environment in which the agent perform our smart algorithms we used MiniHack and gym libraries.<br>\n",
        "[MiniHack](https://minihack.readthedocs.io/en/latest/getting-started/interface.html) is a software tool tailored for AI experimentation. It provides a simplified version of NetHack Learning Environment (NLE) with reduced complexity. It offers a controlled environment for training and testing AI agents and algorithms.<br>\n",
        "[Gym]( https://www.gymlibrary.dev/index.html), by OpenAI, is a toolkit for reinforcement learning that provides a standardized interface for various environments, including MiniHack. In this collaboration, Gym acts as a bridge, allowing AI agents to interact with MiniHack through its standardized interface. By initializing Gym and MiniHack in our Python environment, we  develop an AI agents that exploit optimized searching algorithm for perform our task in a controlled environment. This setup enables efficient experimentation and algorithm refinement for AI tasks within MiniHack.<br>\n",
        "For creating room shapes and for choosing objects and agent we check for [NetHackWiki](https://nethackwiki.com/wiki/Main_Page).\n",
        "For room exploration we decide to implement an A* version with some optimizations. For A* implementation we exploit the [AIMA documentation](https://github.com/yanshengjia/ml-road/blob/master/resources/Artificial%20Intelligence%20-%20A%20Modern%20Approach%20(3rd%20Edition).pdf) while the heuristics and the optimizations are created by us for letting A* to perform well in a partial observable environment.\n"
      ]
    },
    {
      "cell_type": "markdown",
      "id": "36dc0f0b",
      "metadata": {
        "id": "36dc0f0b"
      },
      "source": [
        "<h4>MAIN TASK</h4>\n",
        "The main objective is to identify the room category the agent is in, among \"Dragon cave\", \"Samurai temple of doom\" or in the \"abandoned gold mines of the orcs\" in order to retrieve the relevant objective object.\n",
        "\n",
        "<h4>Exploration </h4>\n",
        "To solve the main task, the agent takes an exhaustive map exploration approach, employing the A* algorithm.\n",
        "At each step of the iteration, the agent establishes its goal, which represents the next destination cell to be reached.\n",
        "The agent then moves along the path returned by A*, marking all cells in the path and their adjacent cells as visited.\n",
        "In each cell visited by the agent, a check is made for the presence of objects, represented by symbols. Bayes' formula is used to calculate and update the probabilities of being in each room, saved within a list in which each item represents the probability of being in the corresponding room.\n",
        "The updating of the probabilities is performed using the percentages calculated at the previous iterations and the percentages of finding the observed object in each room.\n",
        "Such exploration continues until the agent runs out of explorable cells or gains sufficient knowledge about the type of room he is in. In case the predetermined threshold of 95% is exceeded, the agent heads directly to the associated target object, thus concluding the execution of the exploration process.\n",
        "\n",
        "<div style=\"display: flex; justify-content: space-between;\">\n",
        "\n",
        "  <figure>\n",
        "    <img src=\"https://drive.google.com/uc?id=1zdRZdHNAGJRVNjz19AMoEkhXtaHDbnq1\" width=\"750\" height=\"100\">\n",
        "    <figcaption>Bayas' formula</figcaption>\n",
        "  </figure>\n",
        "\n",
        "  <figure>\n",
        "    <img src=\"https://drive.google.com/uc?id=13JST9EPbunwf6F7asBGq_NsiqXAC-MF_\" width=\"400\" height=\"100\" >\n",
        "    <figcaption>A* formula</figcaption>\n",
        "  </figure>\n",
        "\n",
        "</div>\n"
      ]
    },
    {
      "cell_type": "code",
      "execution_count": null,
      "id": "initial_id",
      "metadata": {
        "id": "initial_id"
      },
      "outputs": [],
      "source": [
        "import warnings\n",
        "import os\n",
        "import sys\n",
        "\n",
        "warnings.filterwarnings('ignore')\n",
        "current_dir = %pwd\n",
        "\n",
        "# Detect the parent directory dynamically\n",
        "parent_dir = os.path.abspath(os.path.join(current_dir, '..'))\n",
        "#print(parent_dir)\n",
        "sys.path.append(parent_dir)\n"
      ]
    },
    {
      "cell_type": "code",
      "execution_count": null,
      "id": "c7a6b744",
      "metadata": {
        "id": "c7a6b744"
      },
      "outputs": [],
      "source": [
        "from src.explore_room import *\n",
        "\n",
        "env, goals_info = generate_env()\n",
        "\n",
        "guessed_room, _, _, _ = exhaustive_exploration(env.reset(), env)\n",
        "\n",
        "if goals_info[guessed_room][3] == 'uncursed':\n",
        "    print(\"Win\")\n",
        "else:\n",
        "    print(\"Lose\")"
      ]
    },
    {
      "cell_type": "markdown",
      "id": "cd2dc729",
      "metadata": {
        "id": "cd2dc729"
      },
      "source": [
        "<h4>Find a new target during the exploration</h4>\n",
        "At each iteration of the exploration phase a new target is defined. The target represents the next cell that the agent will have to reach. Initially, all cells that the agent has yet to explore are considered as candidates to become the new target. For each of these candidate cells, an heuristic is calculated based on the current position of the agent. The cell with the best value of the heuristic becomes the new target.\n",
        "\n",
        "The heuristic used for target selection is the TFFFM, specifically developed by us for our exploration problem. TFFFM computes the Manhattan distance between the agent's position and the target and then adds a penalty term for each wall between the agent and the target following the founded path. This heuristic allows choosing as new target a cell that is as close as possible to the agent's position while penalizing paths that involve traversing walls.\n",
        "\n",
        "\n",
        "<h4>Conditioned map</h4>\n",
        "During the exploration, at each iteration, the A* algorithm is invoked for finding the shortest path between the agent position and a selected target. Instead of the original game map, A* operates on a pre-conditioned map created by us. The pre-conditioned map is generated by adding \"fake walls\" along all paths adjacent to the walls, ensuring that these additions do not block any path.\n",
        "The A* algorithm works on the conditioned map and returns a path constantly 1 cell away from the walls of the original game map. Since the agent can perceive adjacent cells, moving to a cell next to the wall would be unnecessary, as it can still be observed with one step less.\n",
        "Therefore, the conditioned map allows visiting the entire area while reducing the number of unnecessary cells to traverse.\n",
        "\n",
        "\n",
        "<h4>A* optimization</h4>\n",
        "\n",
        "During exploration, there are cases where calling A* is unnecessary since the path is simply a straight line between the two cells (agent position and target). These instances can be easily detected by checking the coordinates of the two cells. When this case is identified, A* is not executed; instead, the algorithm simply returns the path that corresponds to a straight line from agent position to target.\n",
        "This optimization reduces the number of calls to A*, thereby improving the algorithm's performance in time and space."
      ]
    },
    {
      "cell_type": "markdown",
      "id": "accacdfe",
      "metadata": {
        "id": "accacdfe"
      },
      "source": [
        "<h4>TEST</h4>\n",
        "\n",
        "Mainly, four different tests have been performed to evaluate the performance and correctness of our improvements. All the tests were run on the map with the most complex pattern. All results that will be shown are taken as average on 1000 runs, starting from a random location in the chosen map. The first test consists regards the comparison of the number of steps taken by the agent to explore the entire map when using different distances in the customized A* implementation. As we can see from the graph below, the number of steps taken by the agent is comparable between all the different distances, with a slight advantage for the TFFFM distance. This result is expected since this custom distance is the most accurate for our problem, as it is the only one that adds a penalty term when considering the walls between the agent and the target, namely the closest unvisited cell in the maze. The other distances, instead, are affected by the presence of walls, which can lead to suboptimal paths.\n",
        "\n",
        "\n",
        "<div style=\"display: flex; justify-content: space-between;\">\n",
        "  <figure>\n",
        "    <img src=\"https://drive.google.com/uc?id=1s-AYZ-rJHYl49Txn0Lv8gaFjEaiODk00\" width=\"300\" height=\"200\">\n",
        "    <figcaption></figcaption>\n",
        "  </figure>\n",
        "</div>\n",
        "\n",
        "In the second experiment we compared the number of unexplored cells at the end of the exploration phase when using different distances in the customized A* implementation. By interpreting the graph shown below, the difference between the number of unexplored cells is almost indistinguishable between the different distances. This result is expected since the number of unexplored cells is mainly affected by the exploration algorithm, which is the same for all the distances.\n",
        "\n",
        "<div style=\"display: flex; justify-content: space-between;\">\n",
        "  <figure>\n",
        "    <img src=\"https://drive.google.com/uc?id=18xilVVTwrLxN5-to13F0drzuhkpZRTzT\" width=\"300\" height=\"200\">\n",
        "    <figcaption></figcaption>\n",
        "  </figure>\n",
        "</div>\n",
        "\n",
        "On the same line of this experiment we evaluated how many times the agent steps over the cells in an exploration of the map. Considering the TFFFM and Manhattan distance and fixing the probability threshold to 100% to let the exploration be exhaustive, we can see that the number of times the agent passes on cells in general is lower for the TFFFM distance, which is more accurate than the Manhattan distance for this task.\n",
        "\n",
        "<div style=\"display: flex; justify-content: space-between;\">\n",
        "\n",
        "  <figure>\n",
        "    <img src=\"https://drive.google.com/uc?id=1vYuFTjCNKDJRhD613Nv_O3BEODreXv1s\" width=\"300\" height=\"200\">\n",
        "    <figcaption>Heatmap without optimizations</figcaption>\n",
        "  </figure>\n",
        "\n",
        "  <figure>\n",
        "    <img src=\"https://drive.google.com/uc?id=1EK1abS9goekQpssDXse5FRNh_wQFMhua\" width=\"300\" height=\"200\" >\n",
        "    <figcaption>Heatmap with optimizations</figcaption>\n",
        "  </figure>\n",
        "\n",
        "</div>\n",
        "\n",
        "\n",
        "The last test is basically evaluating the success rate of the agent, namely the relative number of times the agent reaches the target object, according to its confidence of being in the correct room. The agent looses if the picked up object is cursed and wins if it is not. For this experiment we do not have a plot to show, but just a number that represents the success rate of the agent. The success rate is 0.989, which means that the agent is able to reach the correct target object in 98.9% of the cases. This result is expected since the exploration algorithm is exhaustive and the agent is able to reach the target object in the majority of the cases.\n"
      ]
    },
    {
      "cell_type": "markdown",
      "id": "a4a7c64d",
      "metadata": {
        "id": "a4a7c64d"
      },
      "source": [
        "<h4>CONCLUSIONS</h4>"
      ]
    }
  ],
  "metadata": {
    "colab": {
      "include_colab_link": true,
      "provenance": []
    },
    "kernelspec": {
      "display_name": "Python 3 (ipykernel)",
      "language": "python",
      "name": "python3"
    },
    "language_info": {
      "codemirror_mode": {
        "name": "ipython",
        "version": 3
      },
      "file_extension": ".py",
      "mimetype": "text/x-python",
      "name": "python",
      "nbconvert_exporter": "python",
      "pygments_lexer": "ipython3",
      "version": "3.10.13"
    }
  },
  "nbformat": 4,
  "nbformat_minor": 5
}
